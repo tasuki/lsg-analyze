{
 "cells": [
  {
   "cell_type": "code",
   "execution_count": 1,
   "id": "f1608ffb-f40b-427f-81b7-987498b61901",
   "metadata": {},
   "outputs": [],
   "source": [
    "import json\n",
    "from datetime import datetime, timedelta\n",
    "import subprocess"
   ]
  },
  {
   "cell_type": "code",
   "execution_count": 2,
   "id": "360897e0-ed7c-4b4d-a9fe-fcffc004cc71",
   "metadata": {},
   "outputs": [],
   "source": [
    "lsg_web_repo = \"../../lsg/\"\n",
    "now = datetime.now()\n",
    "\n",
    "years = [str(y) for y in range(2016, now.year + 1)]\n",
    "months = [\"0\" + str(m) for m in range(2, 9)]\n",
    "\n",
    "def process(cmd):\n",
    "    result = subprocess.run(cmd, stdout=subprocess.PIPE, stderr=subprocess.PIPE)\n",
    "    return result.stdout.strip().decode('utf-8'), result.stderr.strip().decode('utf-8')\n",
    "\n",
    "def count_players(text):\n",
    "    lines = text.split('\\n')\n",
    "    return sum(1 for line in lines if line.startswith(\"- \"))\n",
    "\n",
    "def get_zarejestrowani(date):\n",
    "    rev_out, rev_err = process([\n",
    "        \"git\", \"-C\", lsg_web_repo, \"rev-list\", \"-1\", f\"--before={date}T00:00\", \"HEAD\"\n",
    "    ])\n",
    "\n",
    "    if rev_out:\n",
    "        zar_out, zar_err = process([\n",
    "            \"git\", \"-C\", lsg_web_repo, \"show\", f\"{rev_out}:./zarejestrowani.md\"\n",
    "        ])\n",
    "        if zar_out:\n",
    "            return zar_out\n",
    "    return \"\""
   ]
  },
  {
   "cell_type": "code",
   "execution_count": 3,
   "id": "04b0e52c-9c20-4f22-a0fb-b63ad3e4e1f7",
   "metadata": {},
   "outputs": [],
   "source": [
    "zarejestrowani = {}\n",
    "for year in years:\n",
    "    zarejestrowani[year] = {}\n",
    "\n",
    "    start_date = datetime(int(year), 2, 1)\n",
    "    end_date = datetime(int(year), 8, 20)\n",
    "    dates = [(start_date + timedelta(days=x)) for x in range((end_date - start_date).days)]\n",
    "\n",
    "    for date in dates:\n",
    "        if int(date.year) >= now.year and int(date.month) >= now.month and int(date.day) >= now.day:\n",
    "            break # no looking into the future\n",
    "        strdate = date.strftime('%Y-%m-%d')\n",
    "        zar = get_zarejestrowani(strdate)\n",
    "        cnt = count_players(zar)\n",
    "        if int(date.month) > 6 and cnt < 20:\n",
    "            break # no artifacts due to early reset\n",
    "        zarejestrowani[str(date.year)][date.strftime('%m-%d')] = cnt\n",
    "        #print(f\"{strdate} {cnt:4.0f}\")\n",
    "\n",
    "with open('zarejestrowani.json', 'w') as f:\n",
    "    json.dump(zarejestrowani, f, indent=2)"
   ]
  }
 ],
 "metadata": {
  "kernelspec": {
   "display_name": "Python 3 (ipykernel)",
   "language": "python",
   "name": "python3"
  },
  "language_info": {
   "codemirror_mode": {
    "name": "ipython",
    "version": 3
   },
   "file_extension": ".py",
   "mimetype": "text/x-python",
   "name": "python",
   "nbconvert_exporter": "python",
   "pygments_lexer": "ipython3",
   "version": "3.11.2"
  }
 },
 "nbformat": 4,
 "nbformat_minor": 5
}
